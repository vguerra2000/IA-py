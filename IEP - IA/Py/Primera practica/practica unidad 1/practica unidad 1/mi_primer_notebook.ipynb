{
 "cells": [
  {
   "cell_type": "markdown",
   "id": "0f7bdd4b-3b26-48f8-ab82-f827f5bb1b48",
   "metadata": {},
   "source": [
    "# Clase 1 de Python "
   ]
  },
  {
   "cell_type": "markdown",
   "id": "3e6d63ef-5111-4110-b384-847a7fb384aa",
   "metadata": {},
   "source": [
    "## Mi primer notebook\n",
    "\n",
    "Markdown permite mediente un lenguaje sencillo crear documentos estructurados. Algunos ejemplos podemos enumerarlos en la siguiente lista:\n",
    "\n",
    "1. Permite formatear títulos\n",
    "2. Permite enfatizaa textos\n",
    "3. Permite creacción de listas\n",
    "\n",
    "**Nombre:** Víctor Guerra Rubio\n",
    "**Rol:**Alumno"
   ]
  },
  {
   "cell_type": "code",
   "execution_count": 14,
   "id": "116de6ef-dceb-4d73-a2cc-5e708e2aba6c",
   "metadata": {},
   "outputs": [
    {
     "data": {
      "text/plain": [
       "9"
      ]
     },
     "execution_count": 14,
     "metadata": {},
     "output_type": "execute_result"
    }
   ],
   "source": [
    "4+5"
   ]
  },
  {
   "cell_type": "code",
   "execution_count": 16,
   "id": "5d0f0671-561d-4a02-951f-d11b0e3ecd35",
   "metadata": {},
   "outputs": [
    {
     "data": {
      "text/plain": [
       "-0.1"
      ]
     },
     "execution_count": 16,
     "metadata": {},
     "output_type": "execute_result"
    }
   ],
   "source": [
    "# Mi segunda operación aritmética\n",
    "# Sí se hace un salto de línea debe escribir el símbolo del comentario \n",
    "(1+3*2-8)/10"
   ]
  },
  {
   "cell_type": "code",
   "execution_count": 18,
   "id": "be3f3be8-b804-4c19-87bc-4965f2e9dbf2",
   "metadata": {},
   "outputs": [
    {
     "name": "stdin",
     "output_type": "stream",
     "text": [
      "Dime el valor de esta variable:  test\n"
     ]
    }
   ],
   "source": [
    "var1 = input('Dime el valor de esta variable: ')"
   ]
  },
  {
   "cell_type": "code",
   "execution_count": 22,
   "id": "9762a3ad-6bed-4c1e-a613-454c5b8896d4",
   "metadata": {},
   "outputs": [
    {
     "name": "stdin",
     "output_type": "stream",
     "text": [
      "Dime tu altura 171\n"
     ]
    },
    {
     "name": "stdout",
     "output_type": "stream",
     "text": [
      "<class 'int'> 171\n"
     ]
    }
   ],
   "source": [
    "altura = int(input('Dime tu altura: '))\n",
    "print(type(altura), altura)"
   ]
  },
  {
   "cell_type": "markdown",
   "id": "202e8c66-9b83-4833-b8e6-3e7db112ff06",
   "metadata": {},
   "source": [
    "# Primer ejecicio: Convertido de Temperatura\n",
    "\n",
    "Se solicita al usuario que ingrese la temperatura en grados Celsius. Convierte la temperatura a grados Farenheit almacenándola en un una nueva variable e imprimiéndola por pantalla. Recuerda que la fórmula para pasar de Celsius a Farenheit es la siguiente: 𝐹=9/5𝐶+32"
   ]
  },
  {
   "cell_type": "code",
   "execution_count": 25,
   "id": "25c33312-ce2e-47d7-bed1-d408b69ed6bc",
   "metadata": {},
   "outputs": [
    {
     "name": "stdin",
     "output_type": "stream",
     "text": [
      "Dime una temperaura para que la trasnforme a Celsius:  38\n"
     ]
    },
    {
     "name": "stdout",
     "output_type": "stream",
     "text": [
      "La temperatura en grados Fahrenheit es: 100.4°F\n"
     ]
    }
   ],
   "source": [
    "# Solicitar al usuario la temperatura en grados Celsius\n",
    "celsius = float(input(\"Dime una temperaura para que la trasnforme a Celsius: \"))\n",
    "\n",
    "# Convertir la temperatura a grados Fahrenheit usando la fórmula\n",
    "fahrenheit = (9/5) * celsius + 32\n",
    "\n",
    "# Imprimir la temperatura en Fahrenheit\n",
    "print(f\"La temperatura en grados Fahrenheit es: {fahrenheit}°F\")"
   ]
  },
  {
   "cell_type": "markdown",
   "id": "5a2daa74-afef-4736-9154-684d718ff299",
   "metadata": {},
   "source": [
    "# Segundo ejercicio:Números pares y múltiplos de 3 \n",
    "Ahora pide al usuario que introduzca por pantalla un número. El programa deberá imprimir por pantalla si el número es par o no. Únicamente en el caso de que sea impar debe mostrar si es múltiplo de 3. Pista: el operador % es muy útil para ver si un número es múltiplo de otro, los números pares son múltiplos de 2. "
   ]
  },
  {
   "cell_type": "code",
   "execution_count": 30,
   "id": "e30ec992-3813-463a-b38b-d254d167e687",
   "metadata": {},
   "outputs": [
    {
     "name": "stdin",
     "output_type": "stream",
     "text": [
      "Dime un número:  13\n"
     ]
    },
    {
     "name": "stdout",
     "output_type": "stream",
     "text": [
      "El número 13 es impar.\n",
      "El número 13 no es múltiplo de 3.\n"
     ]
    }
   ],
   "source": [
    "# Solicitar al usuario que ingrese un número\n",
    "numero = int(input(\"Dime un número: \"))\n",
    "\n",
    "# Verificar si el número es par o impar\n",
    "if numero % 2 == 0:\n",
    "    print(f\"El número {numero} es par.\")\n",
    "else:\n",
    "    print(f\"El número {numero} es impar.\")\n",
    "    \n",
    "    # Verificar si el número impar es múltiplo de 3\n",
    "    if numero % 3 == 0:\n",
    "        print(f\"El número {numero} es múltiplo de 3.\")\n",
    "    else:\n",
    "        print(f\"El número {numero} no es múltiplo de 3.\")\n"
   ]
  },
  {
   "cell_type": "markdown",
   "id": "b2f07312-db8c-4d33-ad42-1667aafca9ff",
   "metadata": {},
   "source": [
    "# Ejercicio tercero: Comprueba contraseña \n",
    "\n",
    "El usuario introduce una cadena de texto por pantalla, se debe comprobar que esta sea igual a python1234. Si es correcta se muestra por pantalla el mensaje “Acceso Permitido” en caso contrario no se debe mostrar nada."
   ]
  },
  {
   "cell_type": "code",
   "execution_count": 33,
   "id": "1c60f0e3-3fea-4c46-9e6c-bafe53bd8865",
   "metadata": {},
   "outputs": [
    {
     "name": "stdin",
     "output_type": "stream",
     "text": [
      "Introduce la contraseña:  python1234\n"
     ]
    },
    {
     "name": "stdout",
     "output_type": "stream",
     "text": [
      "Acceso Permitido\n"
     ]
    }
   ],
   "source": [
    "# Solicitar al usuario que ingrese la contraseña\n",
    "contraseña = input(\"Introduce la contraseña: \")\n",
    "\n",
    "# Comprobar si la contraseña es correcta\n",
    "if contraseña == \"python1234\":\n",
    "    print(\"Acceso Permitido\")\n"
   ]
  },
  {
   "cell_type": "markdown",
   "id": "9b99ef04-3cad-47f1-9491-900a0dfb3fb7",
   "metadata": {},
   "source": [
    "# Ejercicio Cuerto: Calculadora de descuento \n",
    "Pide al usuario que ingrese el precio original de un producto y a continuación solicita también que ingrese un porcentaje de descuento. Calcula el monto del descuento y el precio final después del descuento. Imprime el monto del descuento y el precio final."
   ]
  },
  {
   "cell_type": "code",
   "execution_count": 36,
   "id": "8287f4b0-c305-4371-b573-38693f3c7c29",
   "metadata": {},
   "outputs": [
    {
     "name": "stdin",
     "output_type": "stream",
     "text": [
      "Dime el precio original del producto:  13.78\n",
      "Dime el porcentaje de descuento:  18\n"
     ]
    },
    {
     "name": "stdout",
     "output_type": "stream",
     "text": [
      "El monto del descuento es: 2.48\n",
      "El precio final después del descuento es: 11.30\n"
     ]
    }
   ],
   "source": [
    "# Solicitar al usuario el precio original del producto\n",
    "precio_original = float(input(\"Dime el precio original del producto: \"))\n",
    "\n",
    "# Solicitar al usuario el porcentaje de descuento\n",
    "porcentaje_descuento = float(input(\"Dime el porcentaje de descuento: \"))\n",
    "\n",
    "# Calcular el monto del descuento\n",
    "monto_descuento = (precio_original * porcentaje_descuento) / 100\n",
    "\n",
    "# Calcular el precio final después del descuento\n",
    "precio_final = precio_original - monto_descuento\n",
    "\n",
    "# Imprimir el monto del descuento y el precio final\n",
    "print(f\"El monto del descuento es: {monto_descuento:.2f}\")\n",
    "print(f\"El precio final después del descuento es: {precio_final:.2f}\")\n"
   ]
  },
  {
   "cell_type": "code",
   "execution_count": null,
   "id": "06c01fa8-6aac-407a-913a-eb308b91767e",
   "metadata": {},
   "outputs": [],
   "source": []
  }
 ],
 "metadata": {
  "kernelspec": {
   "display_name": "Python 3 (ipykernel)",
   "language": "python",
   "name": "python3"
  },
  "language_info": {
   "codemirror_mode": {
    "name": "ipython",
    "version": 3
   },
   "file_extension": ".py",
   "mimetype": "text/x-python",
   "name": "python",
   "nbconvert_exporter": "python",
   "pygments_lexer": "ipython3",
   "version": "3.13.2"
  }
 },
 "nbformat": 4,
 "nbformat_minor": 5
}
