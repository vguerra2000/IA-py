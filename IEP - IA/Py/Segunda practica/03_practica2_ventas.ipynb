{
 "cells": [
  {
   "cell_type": "markdown",
   "id": "d2dd78fd-9c73-4714-b289-337e5cde9e66",
   "metadata": {},
   "source": [
    "# Practica dos ventas\n",
    "Por último, vamos a utilizar un fichero con las ventas de una tienda de ropa que contiene las ventas de un día en la tienda. El fichero está en formato CSV y tiene la siguiente estructura: \n"
   ]
  },
  {
   "cell_type": "markdown",
   "id": "13c215eb-b451-4bc2-942d-387a1113e76c",
   "metadata": {},
   "source": [
    "| id_venta | producto   | cantidad | precio_unitario | total  |\n",
    "|----------|-----------|----------|----------------|--------|\n",
    "| 1        | Camiseta  | 3        | 15.99          | 47.97  |\n",
    "| 2        | Pantalón  | 2        | 29.99          | 59.98  |\n",
    "| 3        | Zapatillas| 1        | 49.99          | 49.99  |\n"
   ]
  },
  {
   "cell_type": "markdown",
   "id": "ac1b044d-000f-4282-90b3-c577f3b32023",
   "metadata": {},
   "source": [
    "El significado de cada columna es el siguiente: \n",
    "- id_venta: código de identificador de cada venta, es único. \n",
    "- producto: nombre del producto vendido \n",
    "- cantidad: número de unidades vendidas \n",
    "- precio unitario: precio por unidad \n",
    "- total: precio total de la venta "
   ]
  },
  {
   "cell_type": "markdown",
   "id": "801da441-3ca8-4a0c-8db3-0d10b8c55a17",
   "metadata": {},
   "source": [
    "## 3.1 Total de ventas:\n",
    "\n",
    "Calcula la suma del precio total de las ventas. Para calcular la suma de las ventas tendrás que fijarte la posición de la columna de ventas y sumar los importes, te en cuenta que tienes que convertir los valores de string a float antes de hacer la suma. Nota: puesto que la primera fila es la cabecera con los nombres debemos de saltarla, para ello lo más fácil es ejecutar el comando next(lector_csv) antes de iterar sobre el resto de filas, esto cambia el puntero a la siguiente fila"
   ]
  },
  {
   "cell_type": "markdown",
   "id": "3bfc3707-6a42-4ebd-b3da-5bca4300a8c4",
   "metadata": {},
   "source": [
    "#### Panteamineto:\n",
    "1. abrir el archivo ventas.csv\n",
    "2. cargar todos los datos en pandas\n",
    "3. extraer los datos de precios total de productos vendidos\n",
    "4. sumar la cantidad total\n",
    "   "
   ]
  },
  {
   "cell_type": "code",
   "execution_count": null,
   "id": "dc23d33c-d861-4906-9dbd-a3d873832414",
   "metadata": {},
   "outputs": [],
   "source": [
    "Trabajaremos con la libreria de py \"pandas\", para ello la isntalaremos con el siguiente comnado"
   ]
  },
  {
   "cell_type": "code",
   "execution_count": 5,
   "id": "78232ff8-e909-4c81-af72-a5a5f16d742a",
   "metadata": {},
   "outputs": [
    {
     "name": "stdout",
     "output_type": "stream",
     "text": [
      "Collecting pandas\n",
      "  Downloading pandas-2.2.3-cp313-cp313-win_amd64.whl.metadata (19 kB)\n",
      "Collecting numpy>=1.26.0 (from pandas)\n",
      "  Downloading numpy-2.2.4-cp313-cp313-win_amd64.whl.metadata (60 kB)\n",
      "Requirement already satisfied: python-dateutil>=2.8.2 in c:\\users\\tecdata engineering\\appdata\\local\\programs\\python\\python313\\lib\\site-packages (from pandas) (2.9.0.post0)\n",
      "Collecting pytz>=2020.1 (from pandas)\n",
      "  Downloading pytz-2025.1-py2.py3-none-any.whl.metadata (22 kB)\n",
      "Collecting tzdata>=2022.7 (from pandas)\n",
      "  Downloading tzdata-2025.2-py2.py3-none-any.whl.metadata (1.4 kB)\n",
      "Requirement already satisfied: six>=1.5 in c:\\users\\tecdata engineering\\appdata\\local\\programs\\python\\python313\\lib\\site-packages (from python-dateutil>=2.8.2->pandas) (1.17.0)\n",
      "Downloading pandas-2.2.3-cp313-cp313-win_amd64.whl (11.5 MB)\n",
      "   ---------------------------------------- 0.0/11.5 MB ? eta -:--:--\n",
      "   ---------------------------------------- 11.5/11.5 MB 78.8 MB/s eta 0:00:00\n",
      "Downloading numpy-2.2.4-cp313-cp313-win_amd64.whl (12.6 MB)\n",
      "   ---------------------------------------- 0.0/12.6 MB ? eta -:--:--\n",
      "   ---------------------------------------- 12.6/12.6 MB 79.5 MB/s eta 0:00:00\n",
      "Downloading pytz-2025.1-py2.py3-none-any.whl (507 kB)\n",
      "Downloading tzdata-2025.2-py2.py3-none-any.whl (347 kB)\n",
      "Installing collected packages: pytz, tzdata, numpy, pandas\n",
      "Successfully installed numpy-2.2.4 pandas-2.2.3 pytz-2025.1 tzdata-2025.2\n"
     ]
    }
   ],
   "source": [
    "!pip install pandas"
   ]
  },
  {
   "cell_type": "code",
   "execution_count": 7,
   "id": "b81d6795-e421-4003-bf80-c6025637b7a5",
   "metadata": {},
   "outputs": [],
   "source": [
    "import pandas as pd \n",
    "\n",
    "rutaVentas = 'datos_Unidad2/ventas.csv'"
   ]
  },
  {
   "cell_type": "markdown",
   "id": "2878e217-ba21-44dd-990b-9c1a98a841e8",
   "metadata": {},
   "source": [
    "leemos datos del csv y los guardamos "
   ]
  },
  {
   "cell_type": "code",
   "execution_count": 8,
   "id": "aba604ba-e1fa-4c7d-9aad-99887a4ff22b",
   "metadata": {},
   "outputs": [],
   "source": [
    "df = pd.read_csv(rutaVentas)"
   ]
  },
  {
   "cell_type": "markdown",
   "id": "3ec2ecc6-d6f9-4d43-86de-39b6ff0692b9",
   "metadata": {},
   "source": [
    "**Lista completa de precios**"
   ]
  },
  {
   "cell_type": "code",
   "execution_count": 11,
   "id": "bf3ac42f-6058-487e-b6e5-5d972a9556de",
   "metadata": {},
   "outputs": [
    {
     "name": "stdout",
     "output_type": "stream",
     "text": [
      "    id_venta    producto  cantidad  precio_unitario   total\n",
      "0          1    Camiseta         3            15.99   47.97\n",
      "1          2    Pantalón         2            29.99   59.98\n",
      "2          3  Zapatillas         1            49.99   49.99\n",
      "3          4       Gorra         5             9.99   49.95\n",
      "4          5    Camiseta         1            15.99   15.99\n",
      "5          6    Pantalón         3            29.99   89.97\n",
      "6          7  Zapatillas         2            49.99   99.98\n",
      "7          8       Gorra         3             9.99   29.97\n",
      "8          9      Jersey         2            39.99   79.98\n",
      "9         10    Pantalón         1            29.99   29.99\n",
      "10        11  Zapatillas         1            49.99   49.99\n",
      "11        12      Jersey         1            39.99   39.99\n",
      "12        13       Gorra         2             9.99   19.98\n",
      "13        14    Camiseta         2            15.99   31.98\n",
      "14        15    Pantalón         4            29.99  119.96\n"
     ]
    }
   ],
   "source": [
    "print(df)"
   ]
  },
  {
   "cell_type": "markdown",
   "id": "a5fbf116-8fa5-4593-aa27-344fb8987742",
   "metadata": {},
   "source": [
    "**Lista total de precios**"
   ]
  },
  {
   "cell_type": "code",
   "execution_count": 12,
   "id": "c3f90d05-5345-4d6a-98cf-cc102ff683cb",
   "metadata": {},
   "outputs": [
    {
     "name": "stdout",
     "output_type": "stream",
     "text": [
      "[47.97, 59.98, 49.99, 49.95, 15.99, 89.97, 99.98, 29.97, 79.98, 29.99, 49.99, 39.99, 19.98, 31.98, 119.96]\n"
     ]
    }
   ],
   "source": [
    "lista_totales = df['total'].tolist()\n",
    "\n",
    "print(lista_totales)"
   ]
  },
  {
   "cell_type": "markdown",
   "id": "a19ac58d-53bf-4e23-ac46-307f8fbfd739",
   "metadata": {},
   "source": [
    "Vamos a resolver el probelma de dos opciones:\n",
    "1. sumando cada item de la arry de los precios totales que hemos guardado\n",
    "2. usaremos `df['total'].sum()` ya que es la opcion que nos ofrece pandas"
   ]
  },
  {
   "cell_type": "markdown",
   "id": "501d0575-b142-43e5-9de2-b571e7355b7a",
   "metadata": {},
   "source": [
    "#### Primera opcion:\n",
    "Recorreremos la arry suamdno cada item de la lista con el total.\n",
    "- **Ventaja**: Nos permite tener más control sobre cada iteración, por ejemplo, si quisiéramos aplicar condiciones o filtros antes de sumar.\n",
    "- **Desventaja**: Es menos eficiente y más lento en comparación con la opción de pandas, especialmente con grandes volúmenes de datos."
   ]
  },
  {
   "cell_type": "code",
   "execution_count": 22,
   "id": "fec5c9e5-4a1a-4001-b65b-fe1245a50cb6",
   "metadata": {},
   "outputs": [
    {
     "name": "stdout",
     "output_type": "stream",
     "text": [
      "Suma total de precios: 815.67\n"
     ]
    }
   ],
   "source": [
    "totalPrecio = 0\n",
    "for precio in lista_totales:\n",
    "    totalPrecio += precio\n",
    "print(f'Suma total de precios: {totalPrecio:.2f}')"
   ]
  },
  {
   "cell_type": "markdown",
   "id": "0cd135a0-8a92-479a-980d-2b47f68c736e",
   "metadata": {},
   "source": [
    "#### Opción 2: Usar `df['total'].sum()` directamente con Pandas\n",
    "\n",
    "Usamos la opcion nativa de pandas\n",
    "\n",
    "- **Ventaja**: Más eficiente y rápido porque pandas usa funciones optimizadas para manipulación de datos, menos código y más claro, Maneja automáticamente valores faltantes (NaN), evitando errores.\n",
    "\n",
    "- **Desventaja**: No permite aplicar condiciones antes de sumar, a menos que se usen filtros adicionales `(df[df['cantidad'] > 1]['total'].sum())`"
   ]
  },
  {
   "cell_type": "code",
   "execution_count": 24,
   "id": "4ea6baba-3674-40e5-8c45-dc7c196f0523",
   "metadata": {},
   "outputs": [
    {
     "name": "stdout",
     "output_type": "stream",
     "text": [
      "Suma total de precios: 815.67\n"
     ]
    }
   ],
   "source": [
    "totalPreciopd = df['total'].sum()\n",
    "print(f'Suma total de precios: {totalPreciopd:.2f}')"
   ]
  },
  {
   "cell_type": "markdown",
   "id": "1ce6432c-ad75-4462-86a3-1ce1d396cfb6",
   "metadata": {},
   "source": [
    "## 3.2 Venta de camisetas\n",
    "\n",
    "Crea un nuevo fichero CSV que contenga únicamente las ventas de camisetas. Utiliza list comprehension para crear primero un listado con la información de las camisetas. "
   ]
  },
  {
   "cell_type": "markdown",
   "id": "d9affd39-0989-462e-95b8-20f9595ca379",
   "metadata": {},
   "source": [
    "#### Panteamiento\n",
    "1. crear nuevo fichero\n",
    "2. leer ficehero donde estan todas las ventas\n",
    "3. guardar todos los dagistros de **producto** que sea igual a \"camiseta\", con todos los datos\n",
    "4. crear una lista de comprension con estos productos\n",
    "5. abrir fichero y guardar datos de la lista"
   ]
  },
  {
   "cell_type": "code",
   "execution_count": 33,
   "id": "24b5412d-0386-4b48-b8b7-46b6ecae9363",
   "metadata": {},
   "outputs": [],
   "source": [
    "rutaVentasCamiseta = 'datos_Unidad2/ventas_camisetas.csv'\n",
    "df = pd.read_csv(rutaVentas)"
   ]
  },
  {
   "cell_type": "code",
   "execution_count": 34,
   "id": "1241bdcd-89dc-4b6e-909d-9f2908f55d7a",
   "metadata": {},
   "outputs": [
    {
     "name": "stdout",
     "output_type": "stream",
     "text": [
      "    id_venta  producto  cantidad  precio_unitario  total\n",
      "0          1  Camiseta         3            15.99  47.97\n",
      "4          5  Camiseta         1            15.99  15.99\n",
      "13        14  Camiseta         2            15.99  31.98\n"
     ]
    }
   ],
   "source": [
    "# filto para guardar solo los productos que sean camiseta\n",
    "dfCamisetas = df[df['producto'] == 'Camiseta']\n",
    "\n",
    "print(dfCamisetas)"
   ]
  },
  {
   "cell_type": "code",
   "execution_count": 35,
   "id": "59c48257-f6b0-4553-b85d-e719808a7023",
   "metadata": {},
   "outputs": [
    {
     "name": "stdout",
     "output_type": "stream",
     "text": [
      "[[1, 'Camiseta', 3, 15.99, 47.97], [5, 'Camiseta', 1, 15.99, 15.99], [14, 'Camiseta', 2, 15.99, 31.98]]\n"
     ]
    }
   ],
   "source": [
    "#Crear una lista de comprensión con los datos filtrados\n",
    "listaCamisetas = [row.tolist() for _, row in df_camisetas.iterrows()]\n",
    "print(listaCamisetas)"
   ]
  },
  {
   "cell_type": "code",
   "execution_count": 36,
   "id": "553bffec-fef1-4267-8b2d-e829af73ed8e",
   "metadata": {},
   "outputs": [
    {
     "name": "stdout",
     "output_type": "stream",
     "text": [
      "Datos de camisetas guardados en datos_Unidad2/ventas_camisetas.csv\n"
     ]
    }
   ],
   "source": [
    "# guardamos los datos en un nuevo fichero\n",
    "df_camisetas.to_csv(rutaVentasCamiseta, index=False)\n",
    "\n",
    "print(f\"Datos de camisetas guardados en {rutaVentasCamiseta}\")"
   ]
  },
  {
   "cell_type": "markdown",
   "id": "06335fdf-f49e-46a4-9af9-bbf98c02e2ad",
   "metadata": {},
   "source": [
    "## Producto más caro\n",
    "\n",
    "Encuentra el producto más caro por precio unitario, tendrás que hacer un bucle que recorra todas las ventas e ir almacenando en una tupla el producto más caro junto con su precio, si se encuentra uno más caro se actualiza la tupla. "
   ]
  },
  {
   "cell_type": "markdown",
   "id": "a3df762f-c43c-49cd-a924-bc746153c092",
   "metadata": {},
   "source": [
    "#### Plantamiento\n",
    "\n",
    "1. Abrir el fichero y guardar los datos\n",
    "2. recorrer cada fila del dataFame guardado el precio mayor, si al compararlo con el siguiente es mayor, nos quedamos con el nuevo precio y asi sucesivamente\n",
    "   "
   ]
  },
  {
   "cell_type": "code",
   "execution_count": 42,
   "id": "ae0403bd-997a-43a6-a967-b30c296ef3eb",
   "metadata": {},
   "outputs": [],
   "source": [
    "rutaVentas = 'datos_Unidad2/ventas.csv'\n",
    "df = pd.read_csv(rutaVentas)\n",
    "productoCaro = (\"\", 0)"
   ]
  },
  {
   "cell_type": "code",
   "execution_count": 45,
   "id": "71c702c8-33fe-456b-ba33-1f12ba86883c",
   "metadata": {},
   "outputs": [
    {
     "name": "stdout",
     "output_type": "stream",
     "text": [
      "Producto más caro: Zapatillas, precio: 49.99\n"
     ]
    }
   ],
   "source": [
    "for _, row in df.iterrows():\n",
    "    producto = row['producto']\n",
    "    precio = row['precio_unitario']\n",
    "    # Si el precio actual es mayor, actualizamos la tupla\n",
    "    if precio > productoCaro[1]:\n",
    "        productoCaro = (producto, precio)\n",
    "print(f'Producto más caro: {productoCaro[0]}, precio: {productoCaro[1]:.2f}')"
   ]
  }
 ],
 "metadata": {
  "kernelspec": {
   "display_name": "Python3",
   "language": "python",
   "name": "nombre_del_kernel"
  },
  "language_info": {
   "codemirror_mode": {
    "name": "ipython",
    "version": 3
   },
   "file_extension": ".py",
   "mimetype": "text/x-python",
   "name": "python",
   "nbconvert_exporter": "python",
   "pygments_lexer": "ipython3",
   "version": "3.13.2"
  }
 },
 "nbformat": 4,
 "nbformat_minor": 5
}
