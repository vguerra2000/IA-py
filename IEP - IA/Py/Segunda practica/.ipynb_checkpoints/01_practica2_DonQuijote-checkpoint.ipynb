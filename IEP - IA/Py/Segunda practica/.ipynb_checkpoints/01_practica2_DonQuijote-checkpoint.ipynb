{
 "cells": [
  {
   "cell_type": "markdown",
   "id": "9a7a86c9-45cd-4e07-b7dd-c7c6e909ddcb",
   "metadata": {},
   "source": [
    "# Practica dos Don Quijote:\n"
   ]
  },
  {
   "cell_type": "markdown",
   "id": "79078a03-b5c3-44dc-b8a3-694bde297f3f",
   "metadata": {},
   "source": [
    "## Ejercicio 1: Don Quijote\n",
    "En este ejercicio vamos a trabajar sobre el fichero llamado *quijote.txt* que contiene los cinco primeros capítulos del Quijote. Realizar los siguientes ejercicios:\n",
    "#### 1.1 Sancho vs Dulcinea \n",
    "¿De quién hablan más los cinco primeros capítulos del Quijote, de Sancho o de Dulcinea? Cuenta el número de repeticiones de cada palabra dentro del texto y muestralo por pantalla. Nota: puedes cargar todo el texto en una variable mediante .read() más adelante lo haremos línea por línea. Recuerda el método count de las strings. "
   ]
  },
  {
   "cell_type": "markdown",
   "id": "c1150706-2870-41de-83f6-eceefe26bf57",
   "metadata": {},
   "source": [
    "##### Panteamiento:\n",
    "Para realizar el ejercico primero abriremos el docuemto que esta en la ruta indicada, Para poder continuar veremos si el docuento tiene algun tipo de copntenido.\n",
    "En el caso de comprobar que hemos podido extraer y guardar el docuemnto, iremos leyendo linea por linea y buscando todas las palabras que coincidan con Sancho y Dulcinea"
   ]
  },
  {
   "cell_type": "code",
   "execution_count": 3,
   "id": "8e43a966-19b0-4209-baa0-9d9b6b556620",
   "metadata": {},
   "outputs": [],
   "source": [
    "#riutal al docuemnto\n",
    "rutaDonQuijote = 'datos_Unidad2/quijote.txt'\n",
    "\n",
    "# Abrir el documento en modo lectura\n",
    "with open(rutaDonQuijote, 'r', encoding='utf-8') as archivo:\n",
    "    contenido = archivo.readlines()"
   ]
  },
  {
   "cell_type": "markdown",
   "id": "afce535f-030d-42d1-87a7-b033c4df3a13",
   "metadata": {},
   "source": [
    "**Nota: usamos una rota relativa para que en este caso pueda ser lanzado desde cualquier Workspace, son necesidad de configurtar nada**"
   ]
  },
  {
   "cell_type": "code",
   "execution_count": 4,
   "id": "8d32db6c-4f83-4cbe-ad22-128140d6792a",
   "metadata": {},
   "outputs": [
    {
     "name": "stdout",
     "output_type": "stream",
     "text": [
      "El documento se ha leído correctamente, sus tres primeras lineas:\n",
      "['DON QUIJOTE DE LA MANCHA\\n', 'Miguel de Cervantes Saavedra\\n', '\\n']\n"
     ]
    }
   ],
   "source": [
    "# validamos que el docuemto se ha leido y que se ha guardado bien el contenido del mismo\n",
    "if len(contenido) != 0:\n",
    "    lineasContenido = [linea for linea in contenido[:3]]\n",
    "    print(f\"El documento se ha leído correctamente, sus tres primeras lineas:\\n{lineasContenido}\")\n",
    "else:\n",
    "    print(\"Error: No se pudo leer el documento o está vacío.\")"
   ]
  },
  {
   "cell_type": "code",
   "execution_count": 5,
   "id": "3f973783-8d97-4cdd-9f1f-639e8ae1ea5f",
   "metadata": {},
   "outputs": [
    {
     "name": "stdout",
     "output_type": "stream",
     "text": [
      "Sancho aparece 1 veces.\n",
      "Dulcinea aparece 6 veces.\n"
     ]
    }
   ],
   "source": [
    "# Inicializar contadores\n",
    "contador_sancho = 0\n",
    "contador_dulcinea = 0\n",
    "\n",
    "# Recorrer línea por línea\n",
    "for linea in contenido:\n",
    "    contador_sancho += linea.lower().count(\"sancho\")  # Contar que aparece \"Sancho\"\n",
    "    contador_dulcinea += linea.lower().count(\"dulcinea\")  # Contar que aparece \"Dulcinea\"\n",
    "\n",
    "print(f\"Sancho aparece {contador_sancho} veces.\")\n",
    "print(f\"Dulcinea aparece {contador_dulcinea} veces.\")"
   ]
  },
  {
   "cell_type": "markdown",
   "id": "d8580cee-2f9c-4054-9e02-8940876d24b0",
   "metadata": {},
   "source": [
    "#### 1.2 Reescribiendo el Quijote \n",
    "Ahora vamos a reescribir el Quijote cambiando el nombre del personaje, puedes darle el nombre que quieras, por ejemplo vamos a llamarlo Manolito. Se pide al alumno que recorra línea el fichero anterior (no utilizar .read()) y cree una lista de Python con las frases del Quijote cambiando el nombre como se había indicado anteriormente. Finalmente escribe un nuevo fichero con el nuevo texto, Llámalo por ejemplo manolito.txt. "
   ]
  },
  {
   "cell_type": "markdown",
   "id": "a9a05edc-0afd-4770-bd1b-8c6c5d0d4ada",
   "metadata": {},
   "source": [
    "##### Planteamiento\n",
    "1. Abrir el archivo original del Quijote en modo lectura.\n",
    "2. Recorrer línea por línea el archivo y reemplaza \"Quijote\" por \"Manolito\".\n",
    "3. Guardar el nuevo texto en un archivo llamado manolito.txt en la ruta 'datos_Unidad2/manolito.txt'."
   ]
  },
  {
   "cell_type": "code",
   "execution_count": 6,
   "id": "ff9eb0f7-91fc-4cf8-bf4a-f20ab3279c22",
   "metadata": {},
   "outputs": [],
   "source": [
    "# Rutas de los archos\n",
    "rutaDonQuijote = 'datos_Unidad2/quijote.txt'\n",
    "rutaManolito = 'datos_Unidad2/Manolito.txt'\n",
    "\n",
    "# Abrir docuemtno Don Quijote\n",
    "with open(rutaDonQuijote, \"r\", encoding=\"utf-8\") as archivo_original:\n",
    "    # Crear una lista con las líneas modificadas\n",
    "    nuevo_texto = [linea.lower().replace(\"quijote\", \"manolito\") for linea in archivo_original] # lower para pasar a minusculas y que no haya distinción entre mayusculas y minusclas"
   ]
  },
  {
   "cell_type": "markdown",
   "id": "2f3e2fa5-6118-4295-beb9-25ce070abd32",
   "metadata": {},
   "source": [
    "Una vez esten cambiadas las palabras comprobaremos que todo se ha realizado de manera correcta.\n",
    "Ya que hay mucho texto, buscaremos que en la primera linea se haya realizado el cambio"
   ]
  },
  {
   "cell_type": "code",
   "execution_count": 7,
   "id": "93ae0778-677b-4d66-9579-f25c7d2f4e93",
   "metadata": {},
   "outputs": [
    {
     "name": "stdout",
     "output_type": "stream",
     "text": [
      "Se ha guardado el texto correctamente.\n",
      "se ha realizado correctamente el cambio de Quijote por Manolito:\n",
      " don manolito de la mancha\n",
      "\n"
     ]
    }
   ],
   "source": [
    "# validar el cambio \n",
    "if len(nuevo_texto) != 0:\n",
    "    print(\"Se ha guardado el texto correctamente.\")\n",
    "    conteoManolitos = sum(linea.count(\"manolito\") for linea in nuevo_texto) # contar los manolitos para ver que se ha relializado el cambio\n",
    "    if conteoManolitos != 0:\n",
    "        print(f\"se ha realizado correctamente el cambio de Quijote por Manolito:\\n {nuevo_texto[0]}\")\n",
    "else:\n",
    "    print(\"no se ha podido guardar el texto\")\n",
    "    "
   ]
  },
  {
   "cell_type": "markdown",
   "id": "be77348d-4a34-475a-afe7-d1eeb23446a3",
   "metadata": {},
   "source": [
    "Una vez validado el cambio de nombres, Crearemos y guardaremos el texto en Manolito.txt"
   ]
  },
  {
   "cell_type": "code",
   "execution_count": 8,
   "id": "c2ab6171-657e-4ee9-a802-077679a68cbd",
   "metadata": {},
   "outputs": [
    {
     "name": "stdout",
     "output_type": "stream",
     "text": [
      "El archivo datos_Unidad2/Manolito.txt ya existe.\n",
      "True\n"
     ]
    }
   ],
   "source": [
    "import os\n",
    "\n",
    "manolito_txt_presente = False # variable para indicar si manolito.txt existe o no\n",
    "\n",
    "if not os.path.exists(rutaManolito):\n",
    "    with open(rutaManolito, \"w\", encoding=\"utf-8\") as archivo_nuevo:\n",
    "        archivo_nuevo.write(\"\")  # Crear un archivo vacío\n",
    "    print(f\"El archivo {rutaManolito} no existía y ha sido creado.\")\n",
    "    manolito_txt_presente = True # indicamos que manolito ya existe\n",
    "else:\n",
    "    print(f\"El archivo {rutaManolito} ya existe.\")\n",
    "    manolito_txt_presente = True # indicamos que manolito ya existe\n",
    "print(manolito_txt_presente)\n"
   ]
  },
  {
   "cell_type": "markdown",
   "id": "356ec2d3-1770-402e-abd3-f3d6ae258aaa",
   "metadata": {},
   "source": [
    "Guardar el contenido moficado dentro de manotilo.txt"
   ]
  },
  {
   "cell_type": "code",
   "execution_count": 9,
   "id": "d607dee7-c3dc-4262-a95e-7445fca2ec29",
   "metadata": {},
   "outputs": [
    {
     "name": "stdout",
     "output_type": "stream",
     "text": [
      "se ha guardado el contenido en la ruta: datos_Unidad2/Manolito.txt\n"
     ]
    }
   ],
   "source": [
    "# comprobamos que existe \n",
    "if manolito_txt_presente:\n",
    "    with open(rutaManolito, \"w\", encoding=\"utf-8\") as archivo_nuevo:\n",
    "        for line in nuevo_texto:\n",
    "            archivo_nuevo.writelines(str(line))\n",
    "    print(f\"se ha guardado el contenido en la ruta: {rutaManolito}\")\n",
    "else:\n",
    "    print(\"Manolito.txt no existe, porfavor ejecute el paso anterior para craelo\")"
   ]
  },
  {
   "cell_type": "markdown",
   "id": "3b3960b7-3ab2-4dbd-b734-462de864489f",
   "metadata": {},
   "source": [
    "#### Conteo de palabras\n",
    "¿Serías capaz de contar el número de veces que se repite cada palabra en el texto? Es un poco más complejo, se trata iterar sobre las palabras del texto (recuerda el método split) e ir almacenando el número de veces que aparece cada palabra en un diccionario. Si una palabra ya está en el diccionario se suma 1 y si no se crea una nueva entrada. Si lo consigues utiliza dict comprehension para posteriormente extraer las palabras que se repitan más de 100 veces.\n"
   ]
  },
  {
   "cell_type": "code",
   "execution_count": 14,
   "id": "47e70d23-3e74-41c1-8c57-a5c85179fedc",
   "metadata": {},
   "outputs": [],
   "source": [
    "from collections import defaultdict\n",
    "\n",
    "# ruta del archivo \n",
    "rutaDonQuijote = 'datos_Unidad2/quijote.txt'\n",
    "\n",
    "# Diccionario para contar palabras\n",
    "conteoPalabras = defaultdict(int)"
   ]
  },
  {
   "cell_type": "markdown",
   "id": "9244ccce-7130-449e-b8c4-8a560196a88c",
   "metadata": {},
   "source": [
    "Despues de crear la variable donde guardaremos el conteo de palabras, (en este caso un diccionaro de numeros enteros), tendremos que abrir el archivo para ir buscando las palabras una a una"
   ]
  },
  {
   "cell_type": "code",
   "execution_count": 21,
   "id": "87f695ff-31e8-48e7-8f18-df5df8cb5777",
   "metadata": {},
   "outputs": [],
   "source": [
    "# Leer el archivo y contar palabras\n",
    "with open(rutaDonQuijote, \"r\", encoding=\"utf-8\") as archivo:\n",
    "    for linea in archivo:\n",
    "        palabras = linea.lower().split()  # Convertimos a minúsculas y dividimos en palabras\n",
    "        for palabra in palabras:\n",
    "            conteoPalabras[palabra] += 1  # Sumamos al conteo"
   ]
  },
  {
   "cell_type": "markdown",
   "id": "e3bc79c2-0188-4d4f-bd4b-3435d8c17da3",
   "metadata": {},
   "source": [
    "Partir de el dicionario que hemops creado con todas las palabras crearemos un dicionario de comprensión.\n",
    "\n",
    "Para el dicionario de compresión, iremos recorriendo el dicionario anterior, item por item y solo guardaremos los que tengan una freciancia mayos a 100"
   ]
  },
  {
   "cell_type": "code",
   "execution_count": 24,
   "id": "32aa2065-3d34-4e02-a071-21e56cabdbfe",
   "metadata": {},
   "outputs": [],
   "source": [
    "# Extraemos las palabras con más de 100 repeticiones\n",
    "palabrasFrecuentes = {palabra: frecuencia for palabra, frecuencia in conteoPalabras.items() if frecuencia > 100}"
   ]
  },
  {
   "cell_type": "markdown",
   "id": "b6907d30-f114-476b-a305-98f8485b5de7",
   "metadata": {},
   "source": [
    "**Salida del programa**\n",
    "Mostraremos los datos guardados en la variable palabrasFrecuentes"
   ]
  },
  {
   "cell_type": "code",
   "execution_count": 27,
   "id": "ef14d6d0-2342-4ffc-abb7-bb8e056c30d3",
   "metadata": {},
   "outputs": [
    {
     "name": "stdout",
     "output_type": "stream",
     "text": [
      "Se han encontrado esta lista de palabras que se repiten mas de 100 veces:\n",
      " {'don': 120, 'de': 1076, 'la': 538, 'que': 1052, 'y': 1032, 'del': 152, 'en': 402, 'un': 126, 'no': 290, 'los': 216, 'las': 200, 'su': 286, 'el': 458, 'con': 262, 'lo': 190, 'se': 294, 'a': 540, 'como': 140, 'por': 222, 'le': 278, 'al': 116, 'había': 114, 'él': 114}\n"
     ]
    }
   ],
   "source": [
    "if palabrasFrecuentes is not None and len(palabrasFrecuentes) != 0:\n",
    "    print(f'Se han encontrado esta lista de palabras que se repiten mas de 100 veces:\\n {palabrasFrecuentes}')\n",
    "else:\n",
    "    print('no hay palabras que se repitan 100 veces')\n",
    "    "
   ]
  },
  {
   "cell_type": "markdown",
   "id": "2703f524-660b-4472-befc-64b772d405b0",
   "metadata": {},
   "source": [
    "cerramos el archivo que habiamos abierto anteriormente"
   ]
  },
  {
   "cell_type": "code",
   "execution_count": 30,
   "id": "e66f2751-4ed1-4934-910d-9dabdbe3a33c",
   "metadata": {},
   "outputs": [],
   "source": [
    "# nos aseguramos que los dos archivos quedan cerrordos\n",
    "archivo_original.close() #quijote.txt\n",
    "archivo_original.close() #Manolito.txt"
   ]
  },
  {
   "cell_type": "code",
   "execution_count": null,
   "id": "2b235aee-3409-4a38-b851-6f19c252d0c2",
   "metadata": {},
   "outputs": [],
   "source": []
  }
 ],
 "metadata": {
  "kernelspec": {
   "display_name": "Python3",
   "language": "python",
   "name": "nombre_del_kernel"
  },
  "language_info": {
   "codemirror_mode": {
    "name": "ipython",
    "version": 3
   },
   "file_extension": ".py",
   "mimetype": "text/x-python",
   "name": "python",
   "nbconvert_exporter": "python",
   "pygments_lexer": "ipython3",
   "version": "3.13.2"
  }
 },
 "nbformat": 4,
 "nbformat_minor": 5
}
