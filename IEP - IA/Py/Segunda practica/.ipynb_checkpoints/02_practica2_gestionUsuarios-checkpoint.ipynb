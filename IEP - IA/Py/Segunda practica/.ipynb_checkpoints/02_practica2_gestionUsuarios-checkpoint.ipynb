{
 "cells": [
  {
   "cell_type": "markdown",
   "id": "ce28157d-2021-40ba-b6d0-daae6d29d52a",
   "metadata": {},
   "source": [
    "# Practica dos gestión de usuarios\n",
    "\n",
    "En este ejercicio crearemos un programa en Python para la gestión de acceso de usuarios a una aplicación. El programa permitirá agregar nuevos usuarios, iniciar sesión con un nombre de usuario y contraseña, y visualizar la lista de usuarios registrados. Para ello se deben realizar las siguientes tareas:"
   ]
  },
  {
   "cell_type": "markdown",
   "id": "46161442-fcd8-4408-a8dc-47dc131b6499",
   "metadata": {},
   "source": [
    "## 2.1 Reguistro de usuarios\n",
    "\n",
    "En esta primera parte se van a almacenar los pares de usuario-contraseña que se quieran guardar. Mediante un bucle se solicita al usuario que vaya introduciendo los nombres de usuario y contraseñas que se irán almacenando en un diccionario de Python, el bucle finaliza cuando se escribe \"SALIR\" como nombre de usuario.  A continuación almacena la información de los usuarios en un archivo JSON llamado usuarios.json. Se debe escribir todo en una celda de Python, cada vez que se ejecuta esta celda se crea un nuevo fichero de usuarios que sobrescribe el anterior. Nota: La forma más eficiente de almacenar el listado de usuarios es un diccionario utilizando el nombre de usuario como clave y la contraseña como valor, tendrás que empezar con un diccionario vacío. "
   ]
  },
  {
   "cell_type": "markdown",
   "id": "0d58a383-4690-4ad2-b27e-672a1bce9b84",
   "metadata": {},
   "source": [
    "#### Planteamiento\n",
    "\n",
    "1. Crear dicionario para añadir a los usuario\n",
    "2. Solicitar al usuario y contraseña en un bucle hasta que el usuario escriba \"SALIR\".\n",
    "3. Almacenar a los datos en un diccionario de usuarios, donde el nombre de usuario es la clave y la contraseña el valor.\n",
    "4. Guardar el diccionario en un archivo JSON."
   ]
  },
  {
   "cell_type": "code",
   "execution_count": 10,
   "id": "33a59c40-5e3a-4d8e-ada1-9fc5036a6808",
   "metadata": {},
   "outputs": [],
   "source": [
    "import json\n",
    "\n",
    "dicUsuarios = {} # diccionario para almacenar a los usuario"
   ]
  },
  {
   "cell_type": "code",
   "execution_count": 13,
   "id": "af7d320d-881b-46b8-858a-6de8a33b8b41",
   "metadata": {},
   "outputs": [
    {
     "name": "stdin",
     "output_type": "stream",
     "text": [
      "Introduce el nombre de usuario (escribe SALIR para terminar):  victor\n",
      "Introduce una contraseña:  1234\n",
      "Introduce el nombre de usuario (escribe SALIR para terminar):  maria\n",
      "Introduce una contraseña:  4321\n",
      "Introduce el nombre de usuario (escribe SALIR para terminar):  pedro\n",
      "Introduce una contraseña:  0123\n",
      "Introduce el nombre de usuario (escribe SALIR para terminar):  salir\n"
     ]
    },
    {
     "name": "stdout",
     "output_type": "stream",
     "text": [
      "{'victor': '1234', 'juan': '1234', 'maria': '4321', 'pedro': '0123'}\n"
     ]
    }
   ],
   "source": [
    "salida = False #flag para indicar cuando salir\n",
    "# bucle para pedir el usuario y la contraseña\n",
    "while not salida:\n",
    "    usuario = input('Introduce el nombre de usuario (escribe SALIR para terminar): ')\n",
    "    if usuario.upper() == 'SALIR':\n",
    "        salida = True\n",
    "    else:\n",
    "        contrasena = input('Introduce una contraseña: ')\n",
    "        dicUsuarios[usuario] = contrasena\n",
    "print(dicUsuarios)"
   ]
  },
  {
   "cell_type": "markdown",
   "id": "f0ed324a-6528-4b0f-a08b-582bd035c504",
   "metadata": {},
   "source": [
    "## 2.2 visualiza los usuario reguistrados\n",
    "\n",
    "Muestra la lista de todos los usuarios registrados, pero únicamente los nombres, jamás las contraseñas. Se debe mostrar un usuario por línea. Intenta también extraer los nombres a una lista mediante list comprehension y hacer un print de esa lista."
   ]
  },
  {
   "cell_type": "code",
   "execution_count": 20,
   "id": "ca5a9767-00d7-47b7-a881-4aa3fc47aabf",
   "metadata": {},
   "outputs": [
    {
     "name": "stdout",
     "output_type": "stream",
     "text": [
      "Lista de usuarios:\n",
      "victor\n",
      "juan\n",
      "maria\n",
      "pedro\n"
     ]
    }
   ],
   "source": [
    "# Mostrar los usuario solo los nombres\n",
    "print('Lista de usuarios:')\n",
    "for usuario in dicUsuarios:\n",
    "    print(usuario)"
   ]
  },
  {
   "cell_type": "code",
   "execution_count": 21,
   "id": "d2a4efba-181c-4192-bc88-a5cd3e60786c",
   "metadata": {},
   "outputs": [],
   "source": [
    "#crare una lista de comprension con los nombres de los usuarios\n",
    "listaUsuarios = [usuarios for usuarios in dicUsuarios]"
   ]
  },
  {
   "cell_type": "code",
   "execution_count": 22,
   "id": "505453ca-2ec1-40cc-b69c-cbf3bb25b259",
   "metadata": {},
   "outputs": [
    {
     "name": "stdout",
     "output_type": "stream",
     "text": [
      "Lista de usuarios: ['victor', 'juan', 'maria', 'pedro']\n"
     ]
    }
   ],
   "source": [
    "print(f'Lista de usuarios: {listaUsuarios}')"
   ]
  },
  {
   "cell_type": "markdown",
   "id": "f6554782-609e-4905-b2a2-ee34cdd339ad",
   "metadata": {},
   "source": [
    "Tambien mostraremos de manera bonita la contraseña con * por cada uno de sus caracteres"
   ]
  },
  {
   "cell_type": "code",
   "execution_count": 23,
   "id": "8464b8be-12e0-4067-b086-2fb548432a0a",
   "metadata": {},
   "outputs": [
    {
     "name": "stdout",
     "output_type": "stream",
     "text": [
      "Usuarios y contraseñas: \n",
      "victor: ****\n",
      "juan: ****\n",
      "maria: ****\n",
      "pedro: ****\n"
     ]
    }
   ],
   "source": [
    "print('Usuarios y contraseñas: ')\n",
    "for usuario, contraseña in dicUsuarios.items():\n",
    "    print(f'{usuario}: {'*' * len(contraseña)}')"
   ]
  },
  {
   "cell_type": "markdown",
   "id": "78fe7b04-de97-4eff-a077-1f301d8804d4",
   "metadata": {},
   "source": [
    "## Inicio de sesión:\n",
    "\n",
    "Solicita al usuario que ingrese su nombre de usuario y contraseña y verifica la información ingresada con la información almacenada en el fichero de usuarios. Si las credenciales son correctas, muestra un mensaje de bienvenida. Si no lo son, muestra un mensaje de error y permite al usuario volver a intentarlo. Se deben permitir un número máximo de 3 intentos y en el mensaje de error se debe mostrar el número de intentos restantes.  Pista: Utiliza un bucle for para limitar y controlar el número de intentos. Puedes utilizar el método get de los diccionarios para que no resulte en error si un usuario no existe. "
   ]
  },
  {
   "cell_type": "markdown",
   "id": "305f8297-2f4c-4cb1-9a58-9aae4ed16f92",
   "metadata": {},
   "source": [
    "#### Planteamiento\n",
    "\n",
    "1. verificamos que el archivo exista\n",
    "2. si no existe lo creamos con los usuarios que se han indicado anteriormente\n",
    "3. solicitamos credenciales\n",
    "4. verificamos quie las credenciales estan en los archivos"
   ]
  },
  {
   "cell_type": "code",
   "execution_count": 27,
   "id": "91e876a3-5e2e-4475-9b5a-fc26ee891e26",
   "metadata": {},
   "outputs": [
    {
     "name": "stdout",
     "output_type": "stream",
     "text": [
      "El archivo 'datos_Unidad2/usuarios.josn' no existe. Creamos el archivo con los usuarios anteriores\n",
      "Se ha creado el archivo correctamente, cargando Usuarios...\n"
     ]
    }
   ],
   "source": [
    "import json\n",
    "import os\n",
    "\n",
    "# creamos fucharo usaurios \n",
    "rutaUsuarios = 'datos_Unidad2/usuarios.josn'\n",
    "\n",
    "# verificar que existe el archivo\n",
    "if not os.path.exists(rutaUsuarios):\n",
    "    print(f'El archivo \\'{rutaUsuarios}\\' no existe. Creamos el archivo con los usuarios anteriores')\n",
    "    os.makedirs(os.path.dirname(rutaUsuarios), exist_ok = True)\n",
    "    print('Se ha creado el archivo correctamente, cargando Usuarios...')\n",
    "    with open(rutaUsuarios, \"w\", encoding=\"utf-8\") as archivo:\n",
    "        json.dump(dicUsuarios, archivo)\n",
    "else: \n",
    "    print('El archivo ya existe')"
   ]
  },
  {
   "cell_type": "markdown",
   "id": "58fe82ca-7aa9-4b44-a033-e48598590f1e",
   "metadata": {},
   "source": [
    "**Creamos login**"
   ]
  },
  {
   "cell_type": "code",
   "execution_count": 61,
   "id": "74b79f7f-89ac-4b21-922a-2b17b97a12bb",
   "metadata": {},
   "outputs": [],
   "source": [
    "def login(usuarios):\n",
    "    usuario = input('nombre de usuario: ')\n",
    "    contrasena = input('contraseña: ')\n",
    "    return usuarios.get(usuario) == contrasena, usuario\n",
    "    "
   ]
  },
  {
   "cell_type": "markdown",
   "id": "fe5a7d20-17a1-47f2-bb76-f8dcf6c101e0",
   "metadata": {},
   "source": [
    "Creamos un loguin en una funcion, llamaremos a esta funcion mientras que queden intentos y el usuario no sea correcto.\n",
    "Si el usuario comple con todos los intentos se renovaran los intentos a 3 y se saldra del bucle\n",
    "si el usuario acierta se saldra del bucle dandole acceso"
   ]
  },
  {
   "cell_type": "code",
   "execution_count": 68,
   "id": "7255f954-2414-4803-9af5-ba4f69c9bc01",
   "metadata": {},
   "outputs": [],
   "source": [
    "def registro(listaUsuarios):\n",
    "    intentos = 3 # número de intentos que tiene el usuario\n",
    "    while intentos > 0:\n",
    "        valLogin, usuario = login(listaUsuarios)\n",
    "        if valLogin:\n",
    "            print(f'¡Bienvenido {usuario}! ')\n",
    "            break\n",
    "        else:\n",
    "            intentos -= 1\n",
    "            if intentos > 0:\n",
    "                print(f' Usuario o contraseña incorrectos. intentos restantes {intentos}/3')\n",
    "            else:\n",
    "                print('Has agotado todos los intentos. Acceso denegado.')"
   ]
  },
  {
   "cell_type": "code",
   "execution_count": 70,
   "id": "f0e4ce3f-e1e6-40b4-a4f9-0ad5352ea051",
   "metadata": {},
   "outputs": [
    {
     "name": "stdin",
     "output_type": "stream",
     "text": [
      "nombre de usuario:  victor\n",
      "contraseña:  1234\n"
     ]
    },
    {
     "name": "stdout",
     "output_type": "stream",
     "text": [
      "¡Bienvenido victor! \n"
     ]
    }
   ],
   "source": [
    "with open(rutaUsuarios, \"r\", encoding=\"utf-8\") as archivoUsuarios:\n",
    "    listaUsuariosTxt = json.load(archivoUsuarios)\n",
    "registro(listaUsuariosTxt)"
   ]
  },
  {
   "cell_type": "markdown",
   "id": "c6d7d07d-141f-496b-b61a-be5f15f4f216",
   "metadata": {},
   "source": [
    "## 2.4 Utilización de archivos binarios\n",
    "Dado que los ficheros JSON están en texto plano es un poco peligroso guardar así las contraseñas, realiza los mismos pasos del ejercicio anterior pero esta vez empleando ficheros binairos en lugar de json para guardar el listado de usuarios junto con las contraseñas."
   ]
  },
  {
   "cell_type": "markdown",
   "id": "576befd6-b004-4581-9835-383e58913d02",
   "metadata": {},
   "source": [
    "#### Planteamiento\n",
    "Reutilizaremos las funciones que hemos creado anterior mente para el reguistro, pero esta vez craremos el archivo en binario, y leeremos los usuarios desde ahi "
   ]
  },
  {
   "cell_type": "code",
   "execution_count": 71,
   "id": "c0b02e9f-a0a8-4d9b-9d0e-f8916296f1fe",
   "metadata": {},
   "outputs": [
    {
     "name": "stdout",
     "output_type": "stream",
     "text": [
      "El archivo ya existe\n"
     ]
    }
   ],
   "source": [
    "rutaUsuariosBinario = 'datos_Unidad2/usuarios.dat'\n",
    "# verificar que existe el archivo\n",
    "if not os.path.exists(rutaUsuariosBinario):\n",
    "    print(f'El archivo \\'{rutaUsuariosBinario}\\' no existe. Creamos el archivo con los usuarios anteriores')\n",
    "    os.makedirs(os.path.dirname(rutaUsuariosBinario), exist_ok = True)\n",
    "    print('Se ha creado el archivo correctamente, cargando Usuarios...')\n",
    "    with open(rutaUsuariosBinario, \"w\", encoding=\"utf-8\") as archivo:\n",
    "        json.dump(dicUsuarios, archivo)\n",
    "else: \n",
    "    print('El archivo ya existe')"
   ]
  },
  {
   "cell_type": "code",
   "execution_count": 72,
   "id": "9bd2744f-ca3d-49e8-9acc-a8c6cb0bf951",
   "metadata": {},
   "outputs": [
    {
     "name": "stdin",
     "output_type": "stream",
     "text": [
      "nombre de usuario:  victor\n",
      "contraseña:  1234\n"
     ]
    },
    {
     "name": "stdout",
     "output_type": "stream",
     "text": [
      "¡Bienvenido victor! \n"
     ]
    }
   ],
   "source": [
    "with open(rutaUsuariosBinario, \"r\", encoding=\"utf-8\") as archivoUsuariosBinarios:\n",
    "    listaUsuariosBinarios = json.load(archivoUsuariosBinarios)\n",
    "registro(listaUsuariosBinarios)"
   ]
  },
  {
   "cell_type": "markdown",
   "id": "c290c7d5-c636-4e9c-a8d7-8dd63f105431",
   "metadata": {},
   "source": [
    "**Explicacion del codigo:**\n",
    "Esto es una solucion sencilla, creando el login dentro de funciones nos permiote ademas de no repetir codigo, crear un codigo más limpio y más leguible para el resto de usuarios, de esta manera se podra reutilizar el login indicando cualquier arhivo que tenga usuarios."
   ]
  }
 ],
 "metadata": {
  "kernelspec": {
   "display_name": "Python3",
   "language": "python",
   "name": "nombre_del_kernel"
  },
  "language_info": {
   "codemirror_mode": {
    "name": "ipython",
    "version": 3
   },
   "file_extension": ".py",
   "mimetype": "text/x-python",
   "name": "python",
   "nbconvert_exporter": "python",
   "pygments_lexer": "ipython3",
   "version": "3.13.2"
  }
 },
 "nbformat": 4,
 "nbformat_minor": 5
}
